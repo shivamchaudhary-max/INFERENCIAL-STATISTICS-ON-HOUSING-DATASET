{
 "cells": [
  {
   "cell_type": "code",
   "execution_count": 1,
   "id": "fb26707f",
   "metadata": {
    "execution": {
     "iopub.execute_input": "2022-01-16T08:47:14.657514Z",
     "iopub.status.busy": "2022-01-16T08:47:14.656729Z",
     "iopub.status.idle": "2022-01-16T08:47:14.660445Z",
     "shell.execute_reply": "2022-01-16T08:47:14.659846Z"
    },
    "id": "EAKWYXvGdxfc",
    "papermill": {
     "duration": 0.026649,
     "end_time": "2022-01-16T08:47:14.660612",
     "exception": false,
     "start_time": "2022-01-16T08:47:14.633963",
     "status": "completed"
    },
    "tags": []
   },
   "outputs": [],
   "source": [
    "import pandas as pd"
   ]
  },
  {
   "cell_type": "code",
   "execution_count": 2,
   "id": "7187ab27",
   "metadata": {
    "execution": {
     "iopub.execute_input": "2022-01-16T08:47:14.688902Z",
     "iopub.status.busy": "2022-01-16T08:47:14.688286Z",
     "iopub.status.idle": "2022-01-16T08:47:14.738048Z",
     "shell.execute_reply": "2022-01-16T08:47:14.737269Z"
    },
    "id": "OCCH-wuFdpAx",
    "papermill": {
     "duration": 0.065669,
     "end_time": "2022-01-16T08:47:14.738304",
     "exception": false,
     "start_time": "2022-01-16T08:47:14.672635",
     "status": "completed"
    },
    "tags": []
   },
   "outputs": [],
   "source": [
    "df=pd.read_csv('../input/train-housing/train (2).csv')"
   ]
  },
  {
   "cell_type": "code",
   "execution_count": 3,
   "id": "5c7b512b",
   "metadata": {
    "execution": {
     "iopub.execute_input": "2022-01-16T08:47:14.769387Z",
     "iopub.status.busy": "2022-01-16T08:47:14.768637Z",
     "iopub.status.idle": "2022-01-16T08:47:14.771997Z",
     "shell.execute_reply": "2022-01-16T08:47:14.772491Z"
    },
    "id": "rwF06VM3evb4",
    "outputId": "6d355e4e-a7a0-49d1-e12c-8491e5c15635",
    "papermill": {
     "duration": 0.022339,
     "end_time": "2022-01-16T08:47:14.772657",
     "exception": false,
     "start_time": "2022-01-16T08:47:14.750318",
     "status": "completed"
    },
    "tags": []
   },
   "outputs": [
    {
     "data": {
      "text/plain": [
       "(1460, 81)"
      ]
     },
     "execution_count": 3,
     "metadata": {},
     "output_type": "execute_result"
    }
   ],
   "source": [
    "df.shape"
   ]
  },
  {
   "cell_type": "code",
   "execution_count": 4,
   "id": "5afe1028",
   "metadata": {
    "execution": {
     "iopub.execute_input": "2022-01-16T08:47:14.809708Z",
     "iopub.status.busy": "2022-01-16T08:47:14.809042Z",
     "iopub.status.idle": "2022-01-16T08:47:14.833579Z",
     "shell.execute_reply": "2022-01-16T08:47:14.833052Z"
    },
    "id": "5AGca9QneyAh",
    "outputId": "202a73b1-6aeb-433b-88ed-0711e1bac07c",
    "papermill": {
     "duration": 0.048679,
     "end_time": "2022-01-16T08:47:14.833749",
     "exception": false,
     "start_time": "2022-01-16T08:47:14.785070",
     "status": "completed"
    },
    "tags": []
   },
   "outputs": [
    {
     "data": {
      "text/html": [
       "<div>\n",
       "<style scoped>\n",
       "    .dataframe tbody tr th:only-of-type {\n",
       "        vertical-align: middle;\n",
       "    }\n",
       "\n",
       "    .dataframe tbody tr th {\n",
       "        vertical-align: top;\n",
       "    }\n",
       "\n",
       "    .dataframe thead th {\n",
       "        text-align: right;\n",
       "    }\n",
       "</style>\n",
       "<table border=\"1\" class=\"dataframe\">\n",
       "  <thead>\n",
       "    <tr style=\"text-align: right;\">\n",
       "      <th></th>\n",
       "      <th>Id</th>\n",
       "      <th>MSSubClass</th>\n",
       "      <th>MSZoning</th>\n",
       "      <th>LotFrontage</th>\n",
       "      <th>LotArea</th>\n",
       "      <th>Street</th>\n",
       "      <th>Alley</th>\n",
       "      <th>LotShape</th>\n",
       "      <th>LandContour</th>\n",
       "      <th>Utilities</th>\n",
       "      <th>...</th>\n",
       "      <th>PoolArea</th>\n",
       "      <th>PoolQC</th>\n",
       "      <th>Fence</th>\n",
       "      <th>MiscFeature</th>\n",
       "      <th>MiscVal</th>\n",
       "      <th>MoSold</th>\n",
       "      <th>YrSold</th>\n",
       "      <th>SaleType</th>\n",
       "      <th>SaleCondition</th>\n",
       "      <th>SalePrice</th>\n",
       "    </tr>\n",
       "  </thead>\n",
       "  <tbody>\n",
       "    <tr>\n",
       "      <th>0</th>\n",
       "      <td>1</td>\n",
       "      <td>60</td>\n",
       "      <td>RL</td>\n",
       "      <td>65.0</td>\n",
       "      <td>8450</td>\n",
       "      <td>Pave</td>\n",
       "      <td>NaN</td>\n",
       "      <td>Reg</td>\n",
       "      <td>Lvl</td>\n",
       "      <td>AllPub</td>\n",
       "      <td>...</td>\n",
       "      <td>0</td>\n",
       "      <td>NaN</td>\n",
       "      <td>NaN</td>\n",
       "      <td>NaN</td>\n",
       "      <td>0</td>\n",
       "      <td>2</td>\n",
       "      <td>2008</td>\n",
       "      <td>WD</td>\n",
       "      <td>Normal</td>\n",
       "      <td>208500</td>\n",
       "    </tr>\n",
       "    <tr>\n",
       "      <th>1</th>\n",
       "      <td>2</td>\n",
       "      <td>20</td>\n",
       "      <td>RL</td>\n",
       "      <td>80.0</td>\n",
       "      <td>9600</td>\n",
       "      <td>Pave</td>\n",
       "      <td>NaN</td>\n",
       "      <td>Reg</td>\n",
       "      <td>Lvl</td>\n",
       "      <td>AllPub</td>\n",
       "      <td>...</td>\n",
       "      <td>0</td>\n",
       "      <td>NaN</td>\n",
       "      <td>NaN</td>\n",
       "      <td>NaN</td>\n",
       "      <td>0</td>\n",
       "      <td>5</td>\n",
       "      <td>2007</td>\n",
       "      <td>WD</td>\n",
       "      <td>Normal</td>\n",
       "      <td>181500</td>\n",
       "    </tr>\n",
       "    <tr>\n",
       "      <th>2</th>\n",
       "      <td>3</td>\n",
       "      <td>60</td>\n",
       "      <td>RL</td>\n",
       "      <td>68.0</td>\n",
       "      <td>11250</td>\n",
       "      <td>Pave</td>\n",
       "      <td>NaN</td>\n",
       "      <td>IR1</td>\n",
       "      <td>Lvl</td>\n",
       "      <td>AllPub</td>\n",
       "      <td>...</td>\n",
       "      <td>0</td>\n",
       "      <td>NaN</td>\n",
       "      <td>NaN</td>\n",
       "      <td>NaN</td>\n",
       "      <td>0</td>\n",
       "      <td>9</td>\n",
       "      <td>2008</td>\n",
       "      <td>WD</td>\n",
       "      <td>Normal</td>\n",
       "      <td>223500</td>\n",
       "    </tr>\n",
       "    <tr>\n",
       "      <th>3</th>\n",
       "      <td>4</td>\n",
       "      <td>70</td>\n",
       "      <td>RL</td>\n",
       "      <td>60.0</td>\n",
       "      <td>9550</td>\n",
       "      <td>Pave</td>\n",
       "      <td>NaN</td>\n",
       "      <td>IR1</td>\n",
       "      <td>Lvl</td>\n",
       "      <td>AllPub</td>\n",
       "      <td>...</td>\n",
       "      <td>0</td>\n",
       "      <td>NaN</td>\n",
       "      <td>NaN</td>\n",
       "      <td>NaN</td>\n",
       "      <td>0</td>\n",
       "      <td>2</td>\n",
       "      <td>2006</td>\n",
       "      <td>WD</td>\n",
       "      <td>Abnorml</td>\n",
       "      <td>140000</td>\n",
       "    </tr>\n",
       "    <tr>\n",
       "      <th>4</th>\n",
       "      <td>5</td>\n",
       "      <td>60</td>\n",
       "      <td>RL</td>\n",
       "      <td>84.0</td>\n",
       "      <td>14260</td>\n",
       "      <td>Pave</td>\n",
       "      <td>NaN</td>\n",
       "      <td>IR1</td>\n",
       "      <td>Lvl</td>\n",
       "      <td>AllPub</td>\n",
       "      <td>...</td>\n",
       "      <td>0</td>\n",
       "      <td>NaN</td>\n",
       "      <td>NaN</td>\n",
       "      <td>NaN</td>\n",
       "      <td>0</td>\n",
       "      <td>12</td>\n",
       "      <td>2008</td>\n",
       "      <td>WD</td>\n",
       "      <td>Normal</td>\n",
       "      <td>250000</td>\n",
       "    </tr>\n",
       "  </tbody>\n",
       "</table>\n",
       "<p>5 rows × 81 columns</p>\n",
       "</div>"
      ],
      "text/plain": [
       "   Id  MSSubClass MSZoning  LotFrontage  LotArea Street Alley LotShape  \\\n",
       "0   1          60       RL         65.0     8450   Pave   NaN      Reg   \n",
       "1   2          20       RL         80.0     9600   Pave   NaN      Reg   \n",
       "2   3          60       RL         68.0    11250   Pave   NaN      IR1   \n",
       "3   4          70       RL         60.0     9550   Pave   NaN      IR1   \n",
       "4   5          60       RL         84.0    14260   Pave   NaN      IR1   \n",
       "\n",
       "  LandContour Utilities  ... PoolArea PoolQC Fence MiscFeature MiscVal MoSold  \\\n",
       "0         Lvl    AllPub  ...        0    NaN   NaN         NaN       0      2   \n",
       "1         Lvl    AllPub  ...        0    NaN   NaN         NaN       0      5   \n",
       "2         Lvl    AllPub  ...        0    NaN   NaN         NaN       0      9   \n",
       "3         Lvl    AllPub  ...        0    NaN   NaN         NaN       0      2   \n",
       "4         Lvl    AllPub  ...        0    NaN   NaN         NaN       0     12   \n",
       "\n",
       "  YrSold  SaleType  SaleCondition  SalePrice  \n",
       "0   2008        WD         Normal     208500  \n",
       "1   2007        WD         Normal     181500  \n",
       "2   2008        WD         Normal     223500  \n",
       "3   2006        WD        Abnorml     140000  \n",
       "4   2008        WD         Normal     250000  \n",
       "\n",
       "[5 rows x 81 columns]"
      ]
     },
     "execution_count": 4,
     "metadata": {},
     "output_type": "execute_result"
    }
   ],
   "source": [
    "df.head()"
   ]
  },
  {
   "cell_type": "code",
   "execution_count": 5,
   "id": "72109dbb",
   "metadata": {
    "execution": {
     "iopub.execute_input": "2022-01-16T08:47:14.872604Z",
     "iopub.status.busy": "2022-01-16T08:47:14.871952Z",
     "iopub.status.idle": "2022-01-16T08:47:14.875299Z",
     "shell.execute_reply": "2022-01-16T08:47:14.874765Z"
    },
    "id": "GXlhzt4igHqA",
    "papermill": {
     "duration": 0.028807,
     "end_time": "2022-01-16T08:47:14.875444",
     "exception": false,
     "start_time": "2022-01-16T08:47:14.846637",
     "status": "completed"
    },
    "tags": []
   },
   "outputs": [
    {
     "data": {
      "text/plain": [
       "NAmes      225\n",
       "CollgCr    150\n",
       "OldTown    113\n",
       "Edwards    100\n",
       "Somerst     86\n",
       "Gilbert     79\n",
       "NridgHt     77\n",
       "Sawyer      74\n",
       "NWAmes      73\n",
       "SawyerW     59\n",
       "BrkSide     58\n",
       "Crawfor     51\n",
       "Mitchel     49\n",
       "NoRidge     41\n",
       "Timber      38\n",
       "IDOTRR      37\n",
       "ClearCr     28\n",
       "StoneBr     25\n",
       "SWISU       25\n",
       "MeadowV     17\n",
       "Blmngtn     17\n",
       "BrDale      16\n",
       "Veenker     11\n",
       "NPkVill      9\n",
       "Blueste      2\n",
       "Name: Neighborhood, dtype: int64"
      ]
     },
     "execution_count": 5,
     "metadata": {},
     "output_type": "execute_result"
    }
   ],
   "source": [
    "# lets check the different neighborhoods\n",
    "df['Neighborhood'].value_counts()"
   ]
  },
  {
   "cell_type": "code",
   "execution_count": 6,
   "id": "1409fed7",
   "metadata": {
    "execution": {
     "iopub.execute_input": "2022-01-16T08:47:14.907270Z",
     "iopub.status.busy": "2022-01-16T08:47:14.906544Z",
     "iopub.status.idle": "2022-01-16T08:47:14.909286Z",
     "shell.execute_reply": "2022-01-16T08:47:14.909783Z"
    },
    "id": "k9t16MZSgLsg",
    "outputId": "99202878-7ae8-47c1-fa44-c3501e4889e2",
    "papermill": {
     "duration": 0.021252,
     "end_time": "2022-01-16T08:47:14.909944",
     "exception": false,
     "start_time": "2022-01-16T08:47:14.888692",
     "status": "completed"
    },
    "tags": []
   },
   "outputs": [
    {
     "name": "stdout",
     "output_type": "stream",
     "text": [
      "Total Number of Houses in the Neighborhood : 1460\n"
     ]
    }
   ],
   "source": [
    "# total number of houses in the neighborhood\n",
    "all_houses = df.shape[0]\n",
    "print(\"Total Number of Houses in the Neighborhood :\", all_houses)"
   ]
  },
  {
   "cell_type": "code",
   "execution_count": 7,
   "id": "3174fc01",
   "metadata": {
    "execution": {
     "iopub.execute_input": "2022-01-16T08:47:14.940292Z",
     "iopub.status.busy": "2022-01-16T08:47:14.939561Z",
     "iopub.status.idle": "2022-01-16T08:47:14.946653Z",
     "shell.execute_reply": "2022-01-16T08:47:14.947138Z"
    },
    "id": "fzQew0wzgXwM",
    "outputId": "ee1d9210-14e2-4b1c-f6a8-11ca4563f1b2",
    "papermill": {
     "duration": 0.023813,
     "end_time": "2022-01-16T08:47:14.947322",
     "exception": false,
     "start_time": "2022-01-16T08:47:14.923509",
     "status": "completed"
    },
    "tags": []
   },
   "outputs": [
    {
     "name": "stdout",
     "output_type": "stream",
     "text": [
      "Total Number of Houses in the Old Town Road : 113\n"
     ]
    }
   ],
   "source": [
    "# total number of houses in the Old town neighborhood\n",
    "houses_in_OldTown = df[df['Neighborhood'] == 'OldTown'].shape[0]\n",
    "print(\"Total Number of Houses in the Old Town Road :\", houses_in_OldTown)"
   ]
  },
  {
   "cell_type": "code",
   "execution_count": 8,
   "id": "90a61f46",
   "metadata": {
    "execution": {
     "iopub.execute_input": "2022-01-16T08:47:14.980831Z",
     "iopub.status.busy": "2022-01-16T08:47:14.980122Z",
     "iopub.status.idle": "2022-01-16T08:47:14.982850Z",
     "shell.execute_reply": "2022-01-16T08:47:14.983336Z"
    },
    "id": "-JxDga3hgpns",
    "outputId": "6218621b-b262-4679-d14e-16c650c2af31",
    "papermill": {
     "duration": 0.022047,
     "end_time": "2022-01-16T08:47:14.983499",
     "exception": false,
     "start_time": "2022-01-16T08:47:14.961452",
     "status": "completed"
    },
    "tags": []
   },
   "outputs": [
    {
     "name": "stdout",
     "output_type": "stream",
     "text": [
      "Probability of picking a house in OldTown: 7.74%\n"
     ]
    }
   ],
   "source": [
    "# lets find the probability of picking a House in the Old Town\n",
    "probability = (houses_in_OldTown/all_houses)*100\n",
    "print('Probability of picking a house in OldTown: {0:.2f}'.format(probability )+'%')"
   ]
  },
  {
   "cell_type": "code",
   "execution_count": 9,
   "id": "3bf32bda",
   "metadata": {
    "execution": {
     "iopub.execute_input": "2022-01-16T08:47:15.015613Z",
     "iopub.status.busy": "2022-01-16T08:47:15.014994Z",
     "iopub.status.idle": "2022-01-16T08:47:15.021729Z",
     "shell.execute_reply": "2022-01-16T08:47:15.020841Z"
    },
    "id": "YP9BN2oxhO5c",
    "outputId": "cbc207db-e212-4d19-acba-e3347f7e1cd8",
    "papermill": {
     "duration": 0.024032,
     "end_time": "2022-01-16T08:47:15.022065",
     "exception": false,
     "start_time": "2022-01-16T08:47:14.998033",
     "status": "completed"
    },
    "tags": []
   },
   "outputs": [
    {
     "name": "stdout",
     "output_type": "stream",
     "text": [
      "The Probability of Picking a House in Old Town and again picking a house from the same neighborhood is 0.594139352\n"
     ]
    }
   ],
   "source": [
    "## Enter condtional probability code\n",
    "cond_prob = (houses_in_OldTown/all_houses) * ((houses_in_OldTown - 1)/(all_houses - 1)) \n",
    "print(\"The Probability of Picking a House in Old Town and again picking a house from the same neighborhood is {0:.9f}\".\n",
    "      format(cond_prob*100))"
   ]
  },
  {
   "cell_type": "code",
   "execution_count": 10,
   "id": "9b2218b0",
   "metadata": {
    "execution": {
     "iopub.execute_input": "2022-01-16T08:47:15.058879Z",
     "iopub.status.busy": "2022-01-16T08:47:15.058154Z",
     "iopub.status.idle": "2022-01-16T08:47:16.428889Z",
     "shell.execute_reply": "2022-01-16T08:47:16.429880Z"
    },
    "id": "hGKUTfeGhTgy",
    "outputId": "11a25116-ecc9-432c-c8ce-89c7c3c1bd7d",
    "papermill": {
     "duration": 1.391954,
     "end_time": "2022-01-16T08:47:16.430123",
     "exception": false,
     "start_time": "2022-01-16T08:47:15.038169",
     "status": "completed"
    },
    "tags": []
   },
   "outputs": [
    {
     "name": "stderr",
     "output_type": "stream",
     "text": [
      "/opt/conda/lib/python3.7/site-packages/seaborn/distributions.py:2619: FutureWarning: `distplot` is a deprecated function and will be removed in a future version. Please adapt your code to use either `displot` (a figure-level function with similar flexibility) or `histplot` (an axes-level function for histograms).\n",
      "  warnings.warn(msg, FutureWarning)\n"
     ]
    },
    {
     "data": {
      "image/png": "[encoded data removed]",
      "text/plain": [
       "<Figure size 792x288 with 1 Axes>"
      ]
     },
     "metadata": {},
     "output_type": "display_data"
    }
   ],
   "source": [
    "import seaborn as sns\n",
    "import matplotlib.pyplot as plt\n",
    "plt.rcParams['figure.figsize'] = (11, 4)\n",
    "plt.style.use('fivethirtyeight')\n",
    "\n",
    "plt.xticks(rotation=30)\n",
    "sns.distplot(df['SalePrice'])\n",
    "plt.title('Distribution of Target Column')\n",
    "plt.show()"
   ]
  },
  {
   "cell_type": "code",
   "execution_count": 11,
   "id": "67bf1b7c",
   "metadata": {
    "execution": {
     "iopub.execute_input": "2022-01-16T08:47:16.472306Z",
     "iopub.status.busy": "2022-01-16T08:47:16.471455Z",
     "iopub.status.idle": "2022-01-16T08:47:16.475063Z",
     "shell.execute_reply": "2022-01-16T08:47:16.475745Z"
    },
    "id": "xnUWzNDxjbRF",
    "outputId": "8f27e133-5987-48c2-8054-e63c75ae1819",
    "papermill": {
     "duration": 0.028534,
     "end_time": "2022-01-16T08:47:16.475965",
     "exception": false,
     "start_time": "2022-01-16T08:47:16.447431",
     "status": "completed"
    },
    "tags": []
   },
   "outputs": [
    {
     "name": "stdout",
     "output_type": "stream",
     "text": [
      "Sample mean: 177499.802\n",
      "Population mean: 180921.19589041095\n"
     ]
    }
   ],
   "source": [
    "import numpy as np\n",
    "# lets take seed so that everytime the random values come out to be constant\n",
    "np.random.seed(6)\n",
    "\n",
    "# lets take 500 sample values from the dataset of 1460 values\n",
    "sample_ages = np.random.choice(a= df['SalePrice'], size=500)\n",
    "\n",
    "# getting the sample mean\n",
    "print (\"Sample mean:\", sample_ages.mean() )          \n",
    "\n",
    "# getting the population mean\n",
    "print(\"Population mean:\", df['SalePrice'].mean())"
   ]
  },
  {
   "cell_type": "code",
   "execution_count": 12,
   "id": "552fd257",
   "metadata": {
    "execution": {
     "iopub.execute_input": "2022-01-16T08:47:16.515048Z",
     "iopub.status.busy": "2022-01-16T08:47:16.514295Z",
     "iopub.status.idle": "2022-01-16T08:47:16.526107Z",
     "shell.execute_reply": "2022-01-16T08:47:16.525220Z"
    },
    "id": "0jVKOCp5mQYV",
    "outputId": "f91022f8-72aa-41ee-eca6-b8f820c1e5a3",
    "papermill": {
     "duration": 0.032179,
     "end_time": "2022-01-16T08:47:16.526296",
     "exception": false,
     "start_time": "2022-01-16T08:47:16.494117",
     "status": "completed"
    },
    "tags": []
   },
   "outputs": [
    {
     "name": "stdout",
     "output_type": "stream",
     "text": [
      "z-critical value:  1.6448536269514722\n",
      "Confidence interval: (178338.05201966673, 186602.42998033328)\n",
      "True mean: 180921.19589041095\n"
     ]
    }
   ],
   "source": [
    "# lets import the scipy package\n",
    "import scipy.stats as stats\n",
    "import math\n",
    "\n",
    "# lets seed the random values\n",
    "np.random.seed(10)\n",
    "\n",
    "# lets take a sample size\n",
    "sample_size = 1000\n",
    "sample = np.random.choice(a= df['SalePrice'],\n",
    "                          size = sample_size)\n",
    "sample_mean = sample.mean()\n",
    "\n",
    "# Get the z-critical value*\n",
    "z_critical = stats.norm.ppf(q = 0.95)  \n",
    "\n",
    " # Check the z-critical value  \n",
    "print(\"z-critical value: \",z_critical)                                \n",
    "\n",
    "# Get the population standard deviation\n",
    "pop_stdev = df['SalePrice'].std()  \n",
    "\n",
    "# checking the margin of error\n",
    "margin_of_error = z_critical * (pop_stdev/math.sqrt(sample_size)) \n",
    "\n",
    "# defining our confidence interval\n",
    "confidence_interval = (sample_mean - margin_of_error,\n",
    "                       sample_mean + margin_of_error)  \n",
    "\n",
    "# lets print the results\n",
    "print(\"Confidence interval:\",end=\" \")\n",
    "print(confidence_interval)\n",
    "print(\"True mean: {}\".format(df['SalePrice'].mean()))"
   ]
  },
  {
   "cell_type": "code",
   "execution_count": 13,
   "id": "42009dd6",
   "metadata": {
    "execution": {
     "iopub.execute_input": "2022-01-16T08:47:16.572639Z",
     "iopub.status.busy": "2022-01-16T08:47:16.571625Z",
     "iopub.status.idle": "2022-01-16T08:47:16.799249Z",
     "shell.execute_reply": "2022-01-16T08:47:16.799775Z"
    },
    "id": "bne__CkDpguW",
    "outputId": "83697cc3-af00-48fa-b735-576d1e4e44a2",
    "papermill": {
     "duration": 0.254682,
     "end_time": "2022-01-16T08:47:16.799952",
     "exception": false,
     "start_time": "2022-01-16T08:47:16.545270",
     "status": "completed"
    },
    "tags": []
   },
   "outputs": [
    {
     "data": {
      "image/png": "[encoded data removed]",
      "text/plain": [
       "<Figure size 936x648 with 1 Axes>"
      ]
     },
     "metadata": {},
     "output_type": "display_data"
    }
   ],
   "source": [
    "np.random.seed(12)\n",
    "\n",
    "sample_size = 500\n",
    "\n",
    "intervals = []\n",
    "sample_means = []\n",
    "\n",
    "for sample in range(25):\n",
    "    sample = np.random.choice(a= df['SalePrice'], size = sample_size)\n",
    "    sample_mean = sample.mean()\n",
    "    sample_means.append(sample_mean)\n",
    "\n",
    "     # Get the z-critical value* \n",
    "    z_critical = stats.norm.ppf(q = 0.975)         \n",
    "\n",
    "    # Get the population standard deviation\n",
    "    pop_stdev = df['SalePrice'].std()  \n",
    "\n",
    "    stats.norm.ppf(q = 0.025)\n",
    "\n",
    "    margin_of_error = z_critical * (pop_stdev/math.sqrt(sample_size))\n",
    "\n",
    "    confidence_interval = (sample_mean - margin_of_error,\n",
    "                           sample_mean + margin_of_error)  \n",
    "    \n",
    "    intervals.append(confidence_interval)\n",
    "    \n",
    "\n",
    "plt.figure(figsize=(13, 9))\n",
    "\n",
    "plt.errorbar(x=np.arange(0.1, 25, 1), \n",
    "             y=sample_means, \n",
    "             yerr=[(top-bot)/2 for top,bot in intervals],\n",
    "             fmt='o')\n",
    "\n",
    "plt.hlines(xmin=0, xmax=25,\n",
    "           y=df['SalePrice'].mean(), \n",
    "           linewidth=2.0,\n",
    "           color=\"red\")\n",
    "plt.title('Confidence Intervals for 25 Trials', fontsize = 20)\n",
    "plt.show()\n",
    "\n",
    "\n"
   ]
  },
  {
   "cell_type": "code",
   "execution_count": 14,
   "id": "c69ace5b",
   "metadata": {
    "execution": {
     "iopub.execute_input": "2022-01-16T08:47:16.844351Z",
     "iopub.status.busy": "2022-01-16T08:47:16.841620Z",
     "iopub.status.idle": "2022-01-16T08:47:16.879715Z",
     "shell.execute_reply": "2022-01-16T08:47:16.880459Z"
    },
    "id": "9l5qLbYvp7i6",
    "outputId": "45f04427-3221-4cb7-d1e3-2f4343d59e44",
    "papermill": {
     "duration": 0.061457,
     "end_time": "2022-01-16T08:47:16.880708",
     "exception": false,
     "start_time": "2022-01-16T08:47:16.819251",
     "status": "completed"
    },
    "tags": []
   },
   "outputs": [
    {
     "name": "stdout",
     "output_type": "stream",
     "text": [
      "Z-statistic is :-10.639294263334575\n",
      "P-value is :0.00000000000000000000000001956052602626001826532572\n"
     ]
    }
   ],
   "source": [
    "# lets import z test from statsmodels\n",
    "from statsmodels.stats.weightstats import ztest\n",
    "\n",
    "z_statistic, p_value = ztest(x1 = df[df['Neighborhood'] == 'OldTown']['SalePrice'],\n",
    "                             value = df['SalePrice'].mean())\n",
    "\n",
    "# lets print the Results\n",
    "print('Z-statistic is :{}'.format(z_statistic))\n",
    "print('P-value is :{:.50f}'.format(p_value))"
   ]
  },
  {
   "cell_type": "markdown",
   "id": "63b8d355",
   "metadata": {
    "id": "myMMM2TSsZEg",
    "papermill": {
     "duration": 0.019068,
     "end_time": "2022-01-16T08:47:16.920126",
     "exception": false,
     "start_time": "2022-01-16T08:47:16.901058",
     "status": "completed"
    },
    "tags": []
   },
   "source": [
    "If the P value if less than 0.05, then we can reject our null hypothesis against the alternate hypothesis.\n",
    "\n",
    "The Probability of getting the given distribution of houseprices in OldTown under the assumption that its mean, is the same as the mean of all house prices."
   ]
  }
 ],
 "metadata": {
  "kernelspec": {
   "display_name": "Python 3",
   "language": "python",
   "name": "python3"
  },
  "language_info": {
   "codemirror_mode": {
    "name": "ipython",
    "version": 3
   },
   "file_extension": ".py",
   "mimetype": "text/x-python",
   "name": "python",
   "nbconvert_exporter": "python",
   "pygments_lexer": "ipython3",
   "version": "3.7.12"
  },
  "papermill": {
   "default_parameters": {},
   "duration": 12.997418,
   "end_time": "2022-01-16T08:47:17.650957",
   "environment_variables": {},
   "exception": null,
   "input_path": "__notebook__.ipynb",
   "output_path": "__notebook__.ipynb",
   "parameters": {},
   "start_time": "2022-01-16T08:47:04.653539",
   "version": "2.3.3"
  }
 },
 "nbformat": 4,
 "nbformat_minor": 5
}
